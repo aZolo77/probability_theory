{
 "cells": [
  {
   "cell_type": "code",
   "execution_count": 1,
   "id": "380b31b8",
   "metadata": {},
   "outputs": [],
   "source": [
    "from math import sqrt\n",
    "import numpy as np"
   ]
  },
  {
   "cell_type": "markdown",
   "id": "856ce6e6",
   "metadata": {},
   "source": [
    "#### 1. Даны значения величины заработной платы заемщиков банка (zp) и значения их поведенческого кредитного скоринга (ks):"
   ]
  },
  {
   "cell_type": "code",
   "execution_count": 2,
   "id": "6a80d5b6",
   "metadata": {},
   "outputs": [
    {
     "data": {
      "text/plain": [
       "(array([ 35,  45, 190, 200,  40,  70,  54, 150, 120, 110]),\n",
       " array([401, 574, 874, 919, 459, 739, 653, 902, 746, 832]))"
      ]
     },
     "execution_count": 2,
     "metadata": {},
     "output_type": "execute_result"
    }
   ],
   "source": [
    "zp = np.array([35, 45, 190, 200, 40, 70, 54, 150, 120, 110])\n",
    "ks = np.array([401, 574, 874, 919, 459, 739, 653, 902, 746, 832])\n",
    "zp, ks"
   ]
  },
  {
   "cell_type": "markdown",
   "id": "66dd1b62",
   "metadata": {},
   "source": [
    "> 1. Найдите ковариацию этих двух величин с помощью элементарных действий, а затем с помощью функции cov из numpy\n",
    "Полученные значения должны быть равны.\n",
    "> 2. Найдите коэффициент корреляции Пирсона с помощью ковариации и среднеквадратичных отклонений двух признаков,\n",
    "а затем с использованием функций из библиотек numpy и pandas."
   ]
  },
  {
   "cell_type": "code",
   "execution_count": 3,
   "id": "cdd172da",
   "metadata": {},
   "outputs": [
    {
     "data": {
      "text/plain": [
       "9157.84"
      ]
     },
     "execution_count": 3,
     "metadata": {},
     "output_type": "execute_result"
    }
   ],
   "source": [
    "# 1\n",
    "cov_custom = (zp * ks).mean() - zp.mean() * ks.mean()\n",
    "round(cov_custom, 2)"
   ]
  },
  {
   "cell_type": "code",
   "execution_count": 4,
   "id": "26a6a5f9",
   "metadata": {},
   "outputs": [
    {
     "data": {
      "text/plain": [
       "array([[ 3494.64,  9157.84],\n",
       "       [ 9157.84, 30468.89]])"
      ]
     },
     "execution_count": 4,
     "metadata": {},
     "output_type": "execute_result"
    }
   ],
   "source": [
    "np.cov(zp, ks, ddof=0)"
   ]
  },
  {
   "cell_type": "code",
   "execution_count": 5,
   "id": "846ebba4",
   "metadata": {},
   "outputs": [
    {
     "data": {
      "text/plain": [
       "0.8874900920739158"
      ]
     },
     "execution_count": 5,
     "metadata": {},
     "output_type": "execute_result"
    }
   ],
   "source": [
    "# 2\n",
    "corrcoef_custom = cov_custom / (zp.std() * ks.std())\n",
    "corrcoef_custom"
   ]
  },
  {
   "cell_type": "code",
   "execution_count": 6,
   "id": "870b553f",
   "metadata": {},
   "outputs": [
    {
     "data": {
      "text/plain": [
       "0.8874900920739162"
      ]
     },
     "execution_count": 6,
     "metadata": {},
     "output_type": "execute_result"
    }
   ],
   "source": [
    "np.corrcoef(zp, ks)[0, 1]"
   ]
  },
  {
   "cell_type": "markdown",
   "id": "9fa8a7af",
   "metadata": {},
   "source": [
    "#### 2. Измерены значения IQ выборки студентов, обучающихся в местных технических вузах:"
   ]
  },
  {
   "cell_type": "code",
   "execution_count": 7,
   "id": "10a634a5",
   "metadata": {},
   "outputs": [],
   "source": [
    "stud_iq = np.array([131, 125, 115, 122, 131, 115, 107, 99, 125, 111])"
   ]
  },
  {
   "cell_type": "markdown",
   "id": "939e213d",
   "metadata": {},
   "source": [
    "> Известно, что в генеральной совокупности IQ распределен нормально. Найдите доверительный интервал для математического ожидания с надежностью 0.95"
   ]
  },
  {
   "cell_type": "code",
   "execution_count": 8,
   "id": "c298a110",
   "metadata": {},
   "outputs": [
    {
     "data": {
      "text/plain": [
       "118.1"
      ]
     },
     "execution_count": 8,
     "metadata": {},
     "output_type": "execute_result"
    }
   ],
   "source": [
    "iq_selection_mean = stud_iq.mean()\n",
    "iq_selection_mean"
   ]
  },
  {
   "cell_type": "code",
   "execution_count": 9,
   "id": "234d34e7",
   "metadata": {},
   "outputs": [
    {
     "data": {
      "text/plain": [
       "10"
      ]
     },
     "execution_count": 9,
     "metadata": {},
     "output_type": "execute_result"
    }
   ],
   "source": [
    "n = stud_iq.size\n",
    "n"
   ]
  },
  {
   "cell_type": "code",
   "execution_count": 10,
   "id": "84e2728b",
   "metadata": {},
   "outputs": [
    {
     "data": {
      "text/plain": [
       "10.54566788359614"
      ]
     },
     "execution_count": 10,
     "metadata": {},
     "output_type": "execute_result"
    }
   ],
   "source": [
    "iq_selection_std = np.std(stud_iq, ddof=1)\n",
    "iq_selection_std"
   ]
  },
  {
   "cell_type": "code",
   "execution_count": 11,
   "id": "c82128a3",
   "metadata": {},
   "outputs": [],
   "source": [
    "t_from_table = 2.751  # для 2.5% (alpha = 5 / 2)"
   ]
  },
  {
   "cell_type": "code",
   "execution_count": 12,
   "id": "2bfa0bc5",
   "metadata": {},
   "outputs": [
    {
     "data": {
      "text/plain": [
       "9.174125571955072"
      ]
     },
     "execution_count": 12,
     "metadata": {},
     "output_type": "execute_result"
    }
   ],
   "source": [
    "сonf_interval = t_from_table * iq_selection_std / n**0.5\n",
    "сonf_interval"
   ]
  },
  {
   "cell_type": "code",
   "execution_count": 13,
   "id": "b75f125c",
   "metadata": {},
   "outputs": [
    {
     "name": "stdout",
     "output_type": "stream",
     "text": [
      "Доверительный интревал: (108.93\t127.27)\n"
     ]
    }
   ],
   "source": [
    "print(f'Доверительный интревал: ({iq_selection_mean - сonf_interval:.2f}\\t{iq_selection_mean + сonf_interval:.2f})')"
   ]
  },
  {
   "cell_type": "markdown",
   "id": "30aba5ef",
   "metadata": {},
   "source": [
    "#### 3. Известно, что рост футболистов в сборной распределен нормально с дисперсией генеральной совокупности, равной 25 кв.см. Объем выборки равен 27, среднее выборочное составляет 174.2\n",
    "\n",
    "> Найдите доверительный интервал для математического ожидания с надежностью 0.95"
   ]
  },
  {
   "cell_type": "code",
   "execution_count": 14,
   "id": "35612013",
   "metadata": {},
   "outputs": [],
   "source": [
    "X_mean = 174.2\n",
    "football_std = sqrt(25)\n",
    "n = 27"
   ]
  },
  {
   "cell_type": "code",
   "execution_count": 15,
   "id": "c943b472",
   "metadata": {},
   "outputs": [],
   "source": [
    "z_table = 1.96  # для 2.5% (alpha = 5 / 2)"
   ]
  },
  {
   "cell_type": "code",
   "execution_count": 16,
   "id": "20c751c6",
   "metadata": {},
   "outputs": [
    {
     "data": {
      "text/plain": [
       "1.8860108793527777"
      ]
     },
     "execution_count": 16,
     "metadata": {},
     "output_type": "execute_result"
    }
   ],
   "source": [
    "сonf_interval = z_table * football_std / n**0.5\n",
    "сonf_interval"
   ]
  },
  {
   "cell_type": "code",
   "execution_count": 17,
   "id": "11de0729",
   "metadata": {},
   "outputs": [
    {
     "name": "stdout",
     "output_type": "stream",
     "text": [
      "Доверительный интревал: (172.31\t176.09)\n"
     ]
    }
   ],
   "source": [
    "print(f'Доверительный интревал: ({X_mean - сonf_interval:.2f}\\t{X_mean + сonf_interval:.2f})')"
   ]
  }
 ],
 "metadata": {
  "kernelspec": {
   "display_name": "Python 3 (ipykernel)",
   "language": "python",
   "name": "python3"
  },
  "language_info": {
   "codemirror_mode": {
    "name": "ipython",
    "version": 3
   },
   "file_extension": ".py",
   "mimetype": "text/x-python",
   "name": "python",
   "nbconvert_exporter": "python",
   "pygments_lexer": "ipython3",
   "version": "3.9.12"
  }
 },
 "nbformat": 4,
 "nbformat_minor": 5
}
