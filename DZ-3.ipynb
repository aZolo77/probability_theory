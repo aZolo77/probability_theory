{
 "cells": [
  {
   "cell_type": "code",
   "execution_count": 1,
   "id": "dda9981f",
   "metadata": {},
   "outputs": [],
   "source": [
    "from math import factorial, e\n",
    "import numpy as np\n",
    "import functools"
   ]
  },
  {
   "cell_type": "code",
   "execution_count": 2,
   "id": "93fcd13a",
   "metadata": {},
   "outputs": [],
   "source": [
    "# Сочетания\n",
    "def combinations(n, k):\n",
    "    return int(factorial(n) / (factorial(k) * factorial(n - k)))\n",
    "\n",
    "# среднее арифметическое\n",
    "def find_mean(l):\n",
    "    return sum(l) / len(l)\n",
    "\n",
    "# среднее квадратичное отклонение (std)\n",
    "def find_std(l, m):\n",
    "    # возвращает смещенную и несмещенную дисперсию\n",
    "    el_sum = 0\n",
    "    for i in l:\n",
    "        el_sum += (i - m)**2\n",
    "    return np.sqrt(el_sum / len(l)), np.sqrt(el_sum / (len(l) - 1))"
   ]
  },
  {
   "cell_type": "markdown",
   "id": "eabe436f",
   "metadata": {},
   "source": [
    "### 1. Даны значения зарплат из выборки выпускников: 100, 80, 75, 77, 89, 33, 45, 25, 65, 17, 30, 24, 57, 55, 70, 75, 65, 84, 90, 150"
   ]
  },
  {
   "cell_type": "markdown",
   "id": "80294bf0",
   "metadata": {},
   "source": [
    "#### Посчитать (желательно без использования статистических методов наподобие std, var, mean) среднее арифметическое, среднее квадратичное отклонение, смещенную и несмещенную оценки дисперсий для данной выборки"
   ]
  },
  {
   "cell_type": "code",
   "execution_count": 3,
   "id": "3c431b59",
   "metadata": {},
   "outputs": [
    {
     "data": {
      "text/plain": [
       "array([100,  80,  75,  77,  89,  33,  45,  25,  65,  17,  30,  24,  57,\n",
       "        55,  70,  75,  65,  84,  90, 150])"
      ]
     },
     "execution_count": 3,
     "metadata": {},
     "output_type": "execute_result"
    }
   ],
   "source": [
    "unsorted_l = np.array([100, 80, 75, 77, 89, 33, 45, 25, 65, 17, 30, 24, 57, 55, 70, 75, 65, 84, 90, 150])\n",
    "unsorted_l"
   ]
  },
  {
   "cell_type": "code",
   "execution_count": 4,
   "id": "348d62c6",
   "metadata": {},
   "outputs": [
    {
     "data": {
      "text/plain": [
       "array([ 17,  24,  25,  30,  33,  45,  55,  57,  65,  65,  70,  75,  75,\n",
       "        77,  80,  84,  89,  90, 100, 150])"
      ]
     },
     "execution_count": 4,
     "metadata": {},
     "output_type": "execute_result"
    }
   ],
   "source": [
    "sorted_l = np.sort(unsorted_l)\n",
    "sorted_l"
   ]
  },
  {
   "cell_type": "code",
   "execution_count": 5,
   "id": "8cd5ec65",
   "metadata": {},
   "outputs": [
    {
     "data": {
      "text/plain": [
       "65.3"
      ]
     },
     "execution_count": 5,
     "metadata": {},
     "output_type": "execute_result"
    }
   ],
   "source": [
    "# a) среднее арифметическое\n",
    "l_mean = find_mean(sorted_l)\n",
    "l_mean"
   ]
  },
  {
   "cell_type": "code",
   "execution_count": 6,
   "id": "4368a0c2",
   "metadata": {},
   "outputs": [
    {
     "data": {
      "text/plain": [
       "30.823854398825596"
      ]
     },
     "execution_count": 6,
     "metadata": {},
     "output_type": "execute_result"
    }
   ],
   "source": [
    "# b) среднее квадратичное отклонение\n",
    "l_std = find_std(sorted_l, l_mean)\n",
    "l_std[0]"
   ]
  },
  {
   "cell_type": "code",
   "execution_count": 7,
   "id": "361c2fe3",
   "metadata": {},
   "outputs": [
    {
     "data": {
      "text/plain": [
       "30.823854398825592"
      ]
     },
     "execution_count": 7,
     "metadata": {},
     "output_type": "execute_result"
    }
   ],
   "source": [
    "# проверка\n",
    "np.std(sorted_l)"
   ]
  },
  {
   "cell_type": "code",
   "execution_count": 8,
   "id": "2ea092d1",
   "metadata": {},
   "outputs": [
    {
     "data": {
      "text/plain": [
       "(950.11, 1000.1157894736843)"
      ]
     },
     "execution_count": 8,
     "metadata": {},
     "output_type": "execute_result"
    }
   ],
   "source": [
    "# c) смещенная, несмещенная дисперсия\n",
    "l_std[0]**2, l_std[1]**2"
   ]
  },
  {
   "cell_type": "code",
   "execution_count": 9,
   "id": "1c794073",
   "metadata": {},
   "outputs": [
    {
     "data": {
      "text/plain": [
       "(950.1099999999999, 1000.115789473684)"
      ]
     },
     "execution_count": 9,
     "metadata": {},
     "output_type": "execute_result"
    }
   ],
   "source": [
    "# проверка\n",
    "np.var(sorted_l), np.var(sorted_l, ddof=1)"
   ]
  },
  {
   "cell_type": "markdown",
   "id": "81f96ce6",
   "metadata": {},
   "source": [
    "### 2. В первом ящике находится 8 мячей, из которых 5 - белые. Во втором ящике - 12 мячей, из которых 5 белых. Из первого ящика вытаскивают случайным образом два мяча, из второго - 4. Какова вероятность того, что 3 мяча белые?"
   ]
  },
  {
   "cell_type": "code",
   "execution_count": 10,
   "id": "6392e262",
   "metadata": {},
   "outputs": [
    {
     "data": {
      "text/plain": [
       "0.12626262626262627"
      ]
     },
     "execution_count": 10,
     "metadata": {},
     "output_type": "execute_result"
    }
   ],
   "source": [
    "first_probability = ((combinations(5, 2) * combinations(3, 0)) / combinations(8, 2)) * ((combinations(5, 1) * combinations(7, 3)) / combinations(12, 4))\n",
    "first_probability"
   ]
  },
  {
   "cell_type": "code",
   "execution_count": 11,
   "id": "cdb0e4f1",
   "metadata": {},
   "outputs": [
    {
     "data": {
      "text/plain": [
       "0.22727272727272727"
      ]
     },
     "execution_count": 11,
     "metadata": {},
     "output_type": "execute_result"
    }
   ],
   "source": [
    "second_probability = ((combinations(5, 1) * combinations(3, 1)) / combinations(8, 2)) * ((combinations(5, 2) * combinations(7, 2)) / combinations(12, 4))\n",
    "second_probability"
   ]
  },
  {
   "cell_type": "code",
   "execution_count": 12,
   "id": "99ea3bc3",
   "metadata": {},
   "outputs": [
    {
     "data": {
      "text/plain": [
       "0.01515151515151515"
      ]
     },
     "execution_count": 12,
     "metadata": {},
     "output_type": "execute_result"
    }
   ],
   "source": [
    "third_probability = ((combinations(3, 2)) / combinations(8, 2)) * ((combinations(5, 3) * combinations(7, 1)) / combinations(12, 4))\n",
    "third_probability"
   ]
  },
  {
   "cell_type": "code",
   "execution_count": 13,
   "id": "5ab535e4",
   "metadata": {},
   "outputs": [
    {
     "name": "stdout",
     "output_type": "stream",
     "text": [
      "36.87%\n"
     ]
    }
   ],
   "source": [
    "full_probability = first_probability + second_probability + third_probability\n",
    "print(f'{round(full_probability * 100, 2)}%')"
   ]
  },
  {
   "cell_type": "markdown",
   "id": "c2b13b53",
   "metadata": {},
   "source": [
    "### 3. На соревновании по биатлону один из трех спортсменов стреляет и попадает в мишень. Вероятность попадания для первого спортсмена равна 0.9, для второго — 0.8, для третьего — 0.6. Найти вероятность того, что выстрел произведен: a). первым спортсменом б). вторым спортсменом в). третьим спортсменом"
   ]
  },
  {
   "cell_type": "code",
   "execution_count": 14,
   "id": "f847da6e",
   "metadata": {},
   "outputs": [
    {
     "data": {
      "text/plain": [
       "0.7666666666666666"
      ]
     },
     "execution_count": 14,
     "metadata": {},
     "output_type": "execute_result"
    }
   ],
   "source": [
    "general_p = 1/3 * 0.9 + 1/3 * 0.8 + 1/3 * 0.6\n",
    "general_p"
   ]
  },
  {
   "cell_type": "code",
   "execution_count": 15,
   "id": "a2d466fc",
   "metadata": {},
   "outputs": [
    {
     "name": "stdout",
     "output_type": "stream",
     "text": [
      "39.13%\n"
     ]
    }
   ],
   "source": [
    "# 1st player\n",
    "print(f'{round((1/3 * 0.9) / general_p * 100, 2)}%')"
   ]
  },
  {
   "cell_type": "code",
   "execution_count": 16,
   "id": "12e6252e",
   "metadata": {},
   "outputs": [
    {
     "name": "stdout",
     "output_type": "stream",
     "text": [
      "34.78%\n"
     ]
    }
   ],
   "source": [
    "# 2nd player\n",
    "print(f'{round((1/3 * 0.8) / general_p * 100, 2)}%')"
   ]
  },
  {
   "cell_type": "code",
   "execution_count": 17,
   "id": "f7dd48d0",
   "metadata": {},
   "outputs": [
    {
     "name": "stdout",
     "output_type": "stream",
     "text": [
      "26.09%\n"
     ]
    }
   ],
   "source": [
    "# 3rd player\n",
    "print(f'{round((1/3 * 0.6) / general_p * 100, 2)}%')"
   ]
  },
  {
   "cell_type": "markdown",
   "id": "08649f7f",
   "metadata": {},
   "source": [
    "### 4. В университет на факультеты A и B поступило равное количество студентов, а на факультет C студентов поступило столько же, сколько на A и B вместе. Вероятность того, что студент факультета A сдаст первую сессию, равна 0.8. Для студента факультета B эта вероятность равна 0.7, а для студента факультета C - 0.9. Студент сдал первую сессию. Какова вероятность, что он учится: a). на факультете A б). на факультете B в). на факультете C?"
   ]
  },
  {
   "cell_type": "code",
   "execution_count": 18,
   "id": "0130c832",
   "metadata": {},
   "outputs": [
    {
     "data": {
      "text/plain": [
       "0.825"
      ]
     },
     "execution_count": 18,
     "metadata": {},
     "output_type": "execute_result"
    }
   ],
   "source": [
    "gen_p= 1/4 * 0.8 + 1/4 * 0.7 + 1/2 * 0.9\n",
    "gen_p"
   ]
  },
  {
   "cell_type": "code",
   "execution_count": 19,
   "id": "1901f47c",
   "metadata": {},
   "outputs": [
    {
     "name": "stdout",
     "output_type": "stream",
     "text": [
      "24.24%\n"
     ]
    }
   ],
   "source": [
    "# student from A faculty\n",
    "stud_A  = (1/4 * 0.8) / gen_p\n",
    "print(f'{round(stud_A * 100, 2)}%')"
   ]
  },
  {
   "cell_type": "code",
   "execution_count": 20,
   "id": "f0027058",
   "metadata": {},
   "outputs": [
    {
     "name": "stdout",
     "output_type": "stream",
     "text": [
      "21.21%\n"
     ]
    }
   ],
   "source": [
    "# student from B faculty\n",
    "stud_B  = (1/4 * 0.7) / gen_p\n",
    "print(f'{round(stud_B * 100, 2)}%')"
   ]
  },
  {
   "cell_type": "code",
   "execution_count": 21,
   "id": "b18c1146",
   "metadata": {},
   "outputs": [
    {
     "name": "stdout",
     "output_type": "stream",
     "text": [
      "54.55%\n"
     ]
    }
   ],
   "source": [
    "# student from C faculty\n",
    "stud_C  = (1/2 * 0.9) / gen_p\n",
    "print(f'{round(stud_C * 100, 2)}%')"
   ]
  },
  {
   "cell_type": "markdown",
   "id": "a7135ac4",
   "metadata": {},
   "source": [
    "### 5. Устройство состоит из трех деталей. Для первой детали вероятность выйти из строя в первый месяц равна 0.1, для второй - 0.2, для третьей - 0.25. Какова вероятность того, что в первый месяц выйдут из строя: а). все детали б). только две детали в). хотя бы одна деталь г). от одной до двух деталей?"
   ]
  },
  {
   "cell_type": "code",
   "execution_count": 22,
   "id": "76b9942e",
   "metadata": {},
   "outputs": [],
   "source": [
    "p1 = 0.1\n",
    "p2 = 0.2\n",
    "p3 = 0.25\n",
    "q1 = 1-p1\n",
    "q2 = 1-p2\n",
    "q3 = 1-p3"
   ]
  },
  {
   "cell_type": "code",
   "execution_count": 23,
   "id": "fe59374e",
   "metadata": {},
   "outputs": [
    {
     "name": "stdout",
     "output_type": "stream",
     "text": [
      "все детали: 0.5%\n",
      "только две детали: 8.0%\n",
      "хотя бы одна деталь: 46.0%\n",
      "от одной до двух деталей: 45.5%\n"
     ]
    }
   ],
   "source": [
    "print(f\"все детали: {round(p1*p2*p3 * 100, 2)}%\")\n",
    "print(f\"только две детали: {round((p1*p2*q3 + p1*q2*p3 + q1*p2*p3) * 100, 2)}%\")\n",
    "print(f\"хотя бы одна деталь: {round((1 - q1*q2*q3) * 100, 2)}%\")\n",
    "print(f\"от одной до двух деталей: {round((1 - q1*q2*q3 - p1*p2*p3) * 100, 2)}%\")"
   ]
  }
 ],
 "metadata": {
  "kernelspec": {
   "display_name": "Python 3 (ipykernel)",
   "language": "python",
   "name": "python3"
  },
  "language_info": {
   "codemirror_mode": {
    "name": "ipython",
    "version": 3
   },
   "file_extension": ".py",
   "mimetype": "text/x-python",
   "name": "python",
   "nbconvert_exporter": "python",
   "pygments_lexer": "ipython3",
   "version": "3.9.12"
  }
 },
 "nbformat": 4,
 "nbformat_minor": 5
}
