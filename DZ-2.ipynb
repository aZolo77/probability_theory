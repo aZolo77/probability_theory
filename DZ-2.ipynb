{
 "cells": [
  {
   "cell_type": "code",
   "execution_count": 1,
   "id": "de754044",
   "metadata": {},
   "outputs": [],
   "source": [
    "from math import factorial, e"
   ]
  },
  {
   "cell_type": "code",
   "execution_count": 2,
   "id": "11ef03c5",
   "metadata": {},
   "outputs": [],
   "source": [
    "# Сочетания\n",
    "def combinations(n, k):\n",
    "    return int(factorial(n) / (factorial(k) * factorial(n - k)))\n",
    "\n",
    "# биномиальное распределение\n",
    "def bernulli_distribution(n, k, p):\n",
    "    q = 1 - p\n",
    "    res = combinations(n, k) * p**k * q**(n - k)\n",
    "    return round(res * 100, 2)\n",
    "\n",
    "# распределение Пуассона\n",
    "def puasson_distribution(n, m, p):\n",
    "    average_val = p * n\n",
    "    res = average_val**m / (factorial(m) * e**average_val)\n",
    "    return round(res * 100, 2)"
   ]
  },
  {
   "cell_type": "markdown",
   "id": "765bedf9",
   "metadata": {},
   "source": [
    "### 1. Вероятность того, что стрелок попадет в мишень, выстрелив один раз, равна 0.8. Стрелок выстрелил 100 раз. Найдите вероятность того, что стрелок попадет в цель ровно 85 раз"
   ]
  },
  {
   "cell_type": "code",
   "execution_count": 3,
   "id": "2c730189",
   "metadata": {},
   "outputs": [
    {
     "name": "stdout",
     "output_type": "stream",
     "text": [
      "4.81%\n"
     ]
    }
   ],
   "source": [
    "print(f'{bernulli_distribution(100, 85, 0.8)}%')"
   ]
  },
  {
   "cell_type": "markdown",
   "id": "4cdfe141",
   "metadata": {},
   "source": [
    "### 2. Вероятность того, что лампочка перегорит в течение первого дня эксплуатации, равна 0.0004. В жилом комплексе после ремонта в один день включили 5000 новых лампочек"
   ]
  },
  {
   "cell_type": "markdown",
   "id": "b0fadc01",
   "metadata": {},
   "source": [
    "#### 2.1 Какова вероятность, что ни одна из них не перегорит в первый день?"
   ]
  },
  {
   "cell_type": "code",
   "execution_count": 4,
   "id": "19488f63",
   "metadata": {},
   "outputs": [
    {
     "name": "stdout",
     "output_type": "stream",
     "text": [
      "13.53%\n"
     ]
    }
   ],
   "source": [
    "print(f'{puasson_distribution(5000, 0, 0.0004)}%')"
   ]
  },
  {
   "cell_type": "markdown",
   "id": "84638323",
   "metadata": {},
   "source": [
    "#### 2.2 Какова вероятность, что перегорят ровно две?"
   ]
  },
  {
   "cell_type": "code",
   "execution_count": 5,
   "id": "c55eb68d",
   "metadata": {},
   "outputs": [
    {
     "name": "stdout",
     "output_type": "stream",
     "text": [
      "27.07%\n"
     ]
    }
   ],
   "source": [
    "print(f'{puasson_distribution(5000, 2, 0.0004)}%')"
   ]
  },
  {
   "cell_type": "markdown",
   "id": "ebeb40d3",
   "metadata": {},
   "source": [
    "### 3. Монету подбросили 144 раза. Какова вероятность, что орел выпадет ровно 70 раз?"
   ]
  },
  {
   "cell_type": "code",
   "execution_count": 6,
   "id": "917b545d",
   "metadata": {},
   "outputs": [
    {
     "name": "stdout",
     "output_type": "stream",
     "text": [
      "6.28%\n"
     ]
    }
   ],
   "source": [
    "print(f'{bernulli_distribution(144, 70, 0.5)}%')"
   ]
  },
  {
   "cell_type": "markdown",
   "id": "98d256de",
   "metadata": {},
   "source": [
    "### 4. В первом ящике находится 10 мячей, из которых 7 - белые. Во втором ящике - 11 мячей, из которых 9 белых. Из каждого ящика вытаскивают случайным образом по два мяча"
   ]
  },
  {
   "cell_type": "markdown",
   "id": "d3df7ac4",
   "metadata": {},
   "source": [
    "#### 4.1 Какова вероятность того, что все мячи белые?"
   ]
  },
  {
   "cell_type": "code",
   "execution_count": 7,
   "id": "8525e2cc",
   "metadata": {},
   "outputs": [
    {
     "name": "stdout",
     "output_type": "stream",
     "text": [
      "30.55%\n"
     ]
    }
   ],
   "source": [
    "white_balls_probability = combinations(7, 2) / combinations(10, 2) * combinations(9, 2) / combinations(11, 2)\n",
    "print(f'{round(white_balls_probability * 100, 2)}%')"
   ]
  },
  {
   "cell_type": "markdown",
   "id": "7254b6af",
   "metadata": {},
   "source": [
    "#### 4.2 Какова вероятность того, что ровно два мяча белые?"
   ]
  },
  {
   "cell_type": "code",
   "execution_count": 8,
   "id": "b3142762",
   "metadata": {},
   "outputs": [
    {
     "data": {
      "text/plain": [
       "0.04363636363636363"
      ]
     },
     "execution_count": 8,
     "metadata": {},
     "output_type": "execute_result"
    }
   ],
   "source": [
    "first_probability = ((combinations(7, 0) * combinations(3, 2)) / combinations(10, 2)) * ((combinations(9, 2) * combinations(2, 0)) / combinations(11, 2))\n",
    "first_probability"
   ]
  },
  {
   "cell_type": "code",
   "execution_count": 9,
   "id": "b9ae104f",
   "metadata": {},
   "outputs": [
    {
     "data": {
      "text/plain": [
       "0.008484848484848484"
      ]
     },
     "execution_count": 9,
     "metadata": {},
     "output_type": "execute_result"
    }
   ],
   "source": [
    "second_probability = ((combinations(7, 2) * combinations(3, 0)) / combinations(10, 2)) * ((combinations(9, 0) * combinations(2, 2)) / combinations(11, 2))\n",
    "second_probability"
   ]
  },
  {
   "cell_type": "code",
   "execution_count": 10,
   "id": "f5de171d",
   "metadata": {},
   "outputs": [
    {
     "data": {
      "text/plain": [
       "0.15272727272727274"
      ]
     },
     "execution_count": 10,
     "metadata": {},
     "output_type": "execute_result"
    }
   ],
   "source": [
    "third_probability = ((combinations(7, 1) * combinations(3, 1)) / combinations(10, 2)) * ((combinations(9, 1) * combinations(2, 1)) / combinations(11, 2))\n",
    "third_probability"
   ]
  },
  {
   "cell_type": "code",
   "execution_count": 11,
   "id": "22adb7b4",
   "metadata": {},
   "outputs": [
    {
     "name": "stdout",
     "output_type": "stream",
     "text": [
      "20.48%\n"
     ]
    }
   ],
   "source": [
    "full_probability = first_probability + second_probability + third_probability\n",
    "print(f'{round(full_probability * 100, 2)}%')"
   ]
  },
  {
   "cell_type": "markdown",
   "id": "b1b76097",
   "metadata": {},
   "source": [
    "#### 4.3 Какова вероятность того, что хотя бы один мяч белый?"
   ]
  },
  {
   "cell_type": "code",
   "execution_count": 12,
   "id": "7074766f",
   "metadata": {},
   "outputs": [
    {
     "name": "stdout",
     "output_type": "stream",
     "text": [
      "99.88%\n"
     ]
    }
   ],
   "source": [
    "black_balls_probability = combinations(3, 2) / combinations(10, 2) * combinations(2, 2) / combinations(11, 2)\n",
    "one_white_ball_probability = 1 - black_balls_probability\n",
    "print(f'{round(one_white_ball_probability * 100, 2)}%')"
   ]
  }
 ],
 "metadata": {
  "kernelspec": {
   "display_name": "Python 3 (ipykernel)",
   "language": "python",
   "name": "python3"
  },
  "language_info": {
   "codemirror_mode": {
    "name": "ipython",
    "version": 3
   },
   "file_extension": ".py",
   "mimetype": "text/x-python",
   "name": "python",
   "nbconvert_exporter": "python",
   "pygments_lexer": "ipython3",
   "version": "3.9.12"
  }
 },
 "nbformat": 4,
 "nbformat_minor": 5
}
