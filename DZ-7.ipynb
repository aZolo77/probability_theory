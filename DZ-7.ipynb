{
 "cells": [
  {
   "cell_type": "code",
   "execution_count": 1,
   "id": "0bec76c7",
   "metadata": {},
   "outputs": [],
   "source": [
    "import numpy as np\n",
    "import matplotlib.pyplot as plt\n",
    "from math import sqrt\n",
    "\n",
    "%matplotlib inline"
   ]
  },
  {
   "cell_type": "markdown",
   "id": "1a3dcb99",
   "metadata": {},
   "source": [
    "### 1. Даны значения величины заработной платы заемщиков банка (zp) и значения их поведенческого кредитного скоринга (ks)"
   ]
  },
  {
   "cell_type": "code",
   "execution_count": 2,
   "id": "a69f3ce2",
   "metadata": {},
   "outputs": [],
   "source": [
    "zp = np.array([35, 45, 190, 200, 40, 70, 54, 150, 120, 110])\n",
    "ks = np.array([401, 574, 874, 919, 459, 739, 653, 902, 746, 832])"
   ]
  },
  {
   "cell_type": "markdown",
   "id": "92c6c698",
   "metadata": {},
   "source": [
    "> Используя математические операции, посчитать коэффициенты линейной регрессии, приняв за X заработную плату (то есть, zp - признак), а за y - значения скорингового балла (то есть, ks - целевая переменная). Произвести расчет как с использованием intercept, так и без"
   ]
  },
  {
   "cell_type": "code",
   "execution_count": 3,
   "id": "0e030078",
   "metadata": {},
   "outputs": [],
   "source": [
    "X = zp\n",
    "y = ks"
   ]
  },
  {
   "cell_type": "code",
   "execution_count": 4,
   "id": "cdfebdde",
   "metadata": {},
   "outputs": [
    {
     "data": {
      "text/plain": [
       "10"
      ]
     },
     "execution_count": 4,
     "metadata": {},
     "output_type": "execute_result"
    }
   ],
   "source": [
    "n = zp.size\n",
    "n"
   ]
  },
  {
   "cell_type": "code",
   "execution_count": 5,
   "id": "80f3d670",
   "metadata": {},
   "outputs": [
    {
     "data": {
      "text/plain": [
       "2.6205388824027653"
      ]
     },
     "execution_count": 5,
     "metadata": {},
     "output_type": "execute_result"
    }
   ],
   "source": [
    "b = (n * (np.sum(X * y)) - (np.sum(X) * np.sum(y))) / (n * (np.sum(X**2)) - ((np.sum(X)**2)))\n",
    "b"
   ]
  },
  {
   "cell_type": "code",
   "execution_count": 6,
   "id": "49ac0f23",
   "metadata": {},
   "outputs": [
    {
     "data": {
      "text/plain": [
       "444.17735732435955"
      ]
     },
     "execution_count": 6,
     "metadata": {},
     "output_type": "execute_result"
    }
   ],
   "source": [
    "a = np.mean(y) - b * np.mean(X)\n",
    "a"
   ]
  },
  {
   "cell_type": "markdown",
   "id": "0421e758",
   "metadata": {},
   "source": [
    "> оценочные значения"
   ]
  },
  {
   "cell_type": "code",
   "execution_count": 7,
   "id": "36a826d2",
   "metadata": {},
   "outputs": [
    {
     "data": {
      "text/plain": [
       "array([535.89621821, 562.10160703, 942.07974498, 968.2851338 ,\n",
       "       548.99891262, 627.61507909, 585.68645697, 837.25818968,\n",
       "       758.64202321, 732.43663439])"
      ]
     },
     "execution_count": 7,
     "metadata": {},
     "output_type": "execute_result"
    }
   ],
   "source": [
    "y_hat_with_intercept = a + b * X\n",
    "y_hat_with_intercept"
   ]
  },
  {
   "cell_type": "markdown",
   "id": "1caeb166",
   "metadata": {},
   "source": [
    "> графическое представление"
   ]
  },
  {
   "cell_type": "code",
   "execution_count": 8,
   "id": "5ad668d9",
   "metadata": {},
   "outputs": [
    {
     "data": {
      "image/png": "[encoded data removed]",
      "text/plain": [
       "<Figure size 432x288 with 1 Axes>"
      ]
     },
     "metadata": {
      "needs_background": "light"
     },
     "output_type": "display_data"
    }
   ],
   "source": [
    "plt.scatter(X, y)\n",
    "plt.plot(X, a + b * X)\n",
    "plt.show()"
   ]
  },
  {
   "cell_type": "markdown",
   "id": "ed77fd8e",
   "metadata": {},
   "source": [
    "> Без использования intercept в матричном виде"
   ]
  },
  {
   "cell_type": "code",
   "execution_count": 9,
   "id": "32417ab6",
   "metadata": {},
   "outputs": [
    {
     "data": {
      "text/plain": [
       "array([[ 35,  45, 190, 200,  40,  70,  54, 150, 120, 110]])"
      ]
     },
     "execution_count": 9,
     "metadata": {},
     "output_type": "execute_result"
    }
   ],
   "source": [
    "zp = zp.reshape((1,-1 ))\n",
    "zp"
   ]
  },
  {
   "cell_type": "code",
   "execution_count": 10,
   "id": "a087b373",
   "metadata": {},
   "outputs": [
    {
     "data": {
      "text/plain": [
       "array([[401, 574, 874, 919, 459, 739, 653, 902, 746, 832]])"
      ]
     },
     "execution_count": 10,
     "metadata": {},
     "output_type": "execute_result"
    }
   ],
   "source": [
    "ks = ks.reshape((1,-1 ))\n",
    "ks"
   ]
  },
  {
   "cell_type": "code",
   "execution_count": 11,
   "id": "1af927aa",
   "metadata": {},
   "outputs": [
    {
     "data": {
      "text/plain": [
       "5.889820420132689"
      ]
     },
     "execution_count": 11,
     "metadata": {},
     "output_type": "execute_result"
    }
   ],
   "source": [
    "beta = ((np.linalg.inv(zp @ zp.T) @ zp) @ ks.T)[0][0]\n",
    "beta"
   ]
  },
  {
   "cell_type": "code",
   "execution_count": 12,
   "id": "4c3fecb3",
   "metadata": {},
   "outputs": [
    {
     "data": {
      "image/png": "[encoded data removed]",
      "text/plain": [
       "<Figure size 432x288 with 1 Axes>"
      ]
     },
     "metadata": {
      "needs_background": "light"
     },
     "output_type": "display_data"
    }
   ],
   "source": [
    "plt.scatter(zp[0], ks[0])\n",
    "plt.plot(zp[0], zp[0] * beta)\n",
    "plt.show()"
   ]
  },
  {
   "cell_type": "markdown",
   "id": "1afbc4a5",
   "metadata": {},
   "source": [
    "### 2. В каких случаях для вычисления доверительных интервалов и проверки статистических гипотез используется таблица значений функции Лапласа, а в каких - таблица критических точек распределения Стьюдента?"
   ]
  },
  {
   "cell_type": "markdown",
   "id": "95968dca",
   "metadata": {},
   "source": [
    "> Таблица критических точек распределения Стьюдента применается когда неизвесто матеатическое ожидание и дисперсия генеральной совокупности, но мы знаем что величины распередены нормально.\n",
    "\n",
    "> Таблица значений функции Лапласа применяется для случаев когда мы знаем среднее и дисперсию генеральной совокупности и величины распеределены нормально."
   ]
  }
 ],
 "metadata": {
  "kernelspec": {
   "display_name": "Python 3 (ipykernel)",
   "language": "python",
   "name": "python3"
  },
  "language_info": {
   "codemirror_mode": {
    "name": "ipython",
    "version": 3
   },
   "file_extension": ".py",
   "mimetype": "text/x-python",
   "name": "python",
   "nbconvert_exporter": "python",
   "pygments_lexer": "ipython3",
   "version": "3.9.12"
  }
 },
 "nbformat": 4,
 "nbformat_minor": 5
}
