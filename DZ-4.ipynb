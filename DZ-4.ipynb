{
 "cells": [
  {
   "cell_type": "code",
   "execution_count": 1,
   "id": "18a75803",
   "metadata": {},
   "outputs": [],
   "source": [
    "import numpy as np\n",
    "from math import sqrt"
   ]
  },
  {
   "cell_type": "code",
   "execution_count": 2,
   "id": "849d097b",
   "metadata": {},
   "outputs": [],
   "source": [
    "# дисперсия\n",
    "def dindDispersion(a, b):\n",
    "    return sqrt(b - a) / 12"
   ]
  },
  {
   "cell_type": "markdown",
   "id": "010b23b9",
   "metadata": {},
   "source": [
    "#### 1. Случайная непрерывная величина A имеет равномерное распределение на промежутке (200, 800]. Найдите ее среднее значение и дисперсию"
   ]
  },
  {
   "cell_type": "code",
   "execution_count": 3,
   "id": "67f85c3b",
   "metadata": {},
   "outputs": [
    {
     "data": {
      "text/plain": [
       "500.0"
      ]
     },
     "execution_count": 3,
     "metadata": {},
     "output_type": "execute_result"
    }
   ],
   "source": [
    "# среднее значение:\n",
    "(200 + 800) / 2"
   ]
  },
  {
   "cell_type": "code",
   "execution_count": 4,
   "id": "e3795fcc",
   "metadata": {},
   "outputs": [
    {
     "name": "stdout",
     "output_type": "stream",
     "text": [
      "2.041241452319315\n"
     ]
    }
   ],
   "source": [
    "# дисперсия:\n",
    "print(dindDispersion(200, 800))"
   ]
  },
  {
   "cell_type": "markdown",
   "id": "ce3a16b9",
   "metadata": {},
   "source": [
    "#### 2. О случайной непрерывной равномерно распределенной величине B известно, что ее дисперсия равна 0.2. Можно ли найти правую границу величины B и ее среднее значение зная, что левая граница равна 0.5? Если да, найдите ее."
   ]
  },
  {
   "cell_type": "code",
   "execution_count": 5,
   "id": "4d215fbf",
   "metadata": {},
   "outputs": [
    {
     "name": "stdout",
     "output_type": "stream",
     "text": [
      "Right border is about 2.049193\n"
     ]
    }
   ],
   "source": [
    "# Да, можно: (b - a)**2 = 12 * D\n",
    "print(f'Right border is about {2.049193}')"
   ]
  },
  {
   "cell_type": "markdown",
   "id": "d461601e",
   "metadata": {},
   "source": [
    "#### 3. Непрерывная случайная величина X распределена нормально и задана плотностью распределения:\n",
    "<center>f(x) = (1 / (4 * sqrt(2*pi))) * (exp(-(x+2)**2) / 32)</center>"
   ]
  },
  {
   "cell_type": "markdown",
   "id": "8d0178f1",
   "metadata": {},
   "source": [
    "> Найдите:"
   ]
  },
  {
   "cell_type": "markdown",
   "id": "894b7628",
   "metadata": {},
   "source": [
    "$$f(x) = \\frac{1}{\\sigma \\sqrt{2 \\pi}} e ^ {- \\frac{(x - a)^2}{2 \\sigma^2}},$$"
   ]
  },
  {
   "cell_type": "markdown",
   "id": "4e7ba6b4",
   "metadata": {},
   "source": [
    "$$=> f(x) = \\frac{1}{4 \\sqrt{2 \\pi}} e ^ {- \\frac{(x + 2)^2}{32}},$$"
   ]
  },
  {
   "cell_type": "markdown",
   "id": "9adc8e4a",
   "metadata": {},
   "source": [
    "$M(X)  = -2$"
   ]
  },
  {
   "cell_type": "markdown",
   "id": "a24ca3f1",
   "metadata": {},
   "source": [
    "$D(X)  =\\sigma^2= 16$"
   ]
  },
  {
   "cell_type": "markdown",
   "id": "d367fe49",
   "metadata": {},
   "source": [
    "$std(X)  =\\sigma= 4$"
   ]
  },
  {
   "cell_type": "markdown",
   "id": "557a1d2e",
   "metadata": {},
   "source": [
    "#### 4. Рост взрослого населения города X имеет нормальное распределение. Причем, средний рост равен 174 см, а среднее квадратичное отклонение равно 8 см. \n",
    "> Какова вероятность того, что случайным образом выбранный взрослый человек имеет рост:"
   ]
  },
  {
   "cell_type": "code",
   "execution_count": 6,
   "id": "52d29c11",
   "metadata": {},
   "outputs": [],
   "source": [
    "sigma = 8 # среднеквадратичное отклонение\n",
    "mo = 174 # математическое ожидание\n",
    "n = 100000000 # размер массива"
   ]
  },
  {
   "cell_type": "code",
   "execution_count": 7,
   "id": "97444517",
   "metadata": {},
   "outputs": [],
   "source": [
    "np.random.seed(7)"
   ]
  },
  {
   "cell_type": "code",
   "execution_count": 8,
   "id": "a8dcd5e3",
   "metadata": {},
   "outputs": [
    {
     "data": {
      "text/plain": [
       "100000000"
      ]
     },
     "execution_count": 8,
     "metadata": {},
     "output_type": "execute_result"
    }
   ],
   "source": [
    "height_l = sigma * np.random.randn(n) + mo\n",
    "height_l.shape[0]"
   ]
  },
  {
   "cell_type": "code",
   "execution_count": 9,
   "id": "bd836d89",
   "metadata": {},
   "outputs": [
    {
     "data": {
      "text/plain": [
       "0.15860923"
      ]
     },
     "execution_count": 9,
     "metadata": {},
     "output_type": "execute_result"
    }
   ],
   "source": [
    "# а) больше 182 см\n",
    "height_l[height_l>182].shape[0] / height_l.shape[0]"
   ]
  },
  {
   "cell_type": "code",
   "execution_count": 10,
   "id": "7c349513",
   "metadata": {},
   "outputs": [
    {
     "data": {
      "text/plain": [
       "0.02273563"
      ]
     },
     "execution_count": 10,
     "metadata": {},
     "output_type": "execute_result"
    }
   ],
   "source": [
    "# б) больше 190 см\n",
    "height_l[height_l>190].shape[0] / height_l.shape[0]"
   ]
  },
  {
   "cell_type": "code",
   "execution_count": 11,
   "id": "de2f44cb",
   "metadata": {},
   "outputs": [
    {
     "data": {
      "text/plain": [
       "0.81858735"
      ]
     },
     "execution_count": 11,
     "metadata": {},
     "output_type": "execute_result"
    }
   ],
   "source": [
    "# в) от 166 см до 190 см\n",
    "height_l[(height_l >= 166) & (height_l <= 190)].shape[0] / height_l.shape[0]"
   ]
  },
  {
   "cell_type": "code",
   "execution_count": 12,
   "id": "9433f218",
   "metadata": {},
   "outputs": [
    {
     "data": {
      "text/plain": [
       "0.68271375"
      ]
     },
     "execution_count": 12,
     "metadata": {},
     "output_type": "execute_result"
    }
   ],
   "source": [
    "# г) от 166 см до 182 см\n",
    "height_l[(height_l >= 166) & (height_l <= 182)].shape[0] / height_l.shape[0]"
   ]
  },
  {
   "cell_type": "code",
   "execution_count": 13,
   "id": "49acd16f",
   "metadata": {},
   "outputs": [
    {
     "data": {
      "text/plain": [
       "0.95449674"
      ]
     },
     "execution_count": 13,
     "metadata": {},
     "output_type": "execute_result"
    }
   ],
   "source": [
    "# д) от 158 см до 190 см\n",
    "height_l[(height_l >= 158) & (height_l <= 190)].shape[0] / height_l.shape[0]"
   ]
  },
  {
   "cell_type": "code",
   "execution_count": 14,
   "id": "1850e47b",
   "metadata": {},
   "outputs": [
    {
     "data": {
      "text/plain": [
       "0.02408553"
      ]
     },
     "execution_count": 14,
     "metadata": {},
     "output_type": "execute_result"
    }
   ],
   "source": [
    "# е) не выше 150 см или не ниже 190 см\n",
    "height_l[(height_l <= 150) | (height_l >= 190)].shape[0] / height_l.shape[0]"
   ]
  },
  {
   "cell_type": "code",
   "execution_count": 15,
   "id": "126c0793",
   "metadata": {},
   "outputs": [
    {
     "data": {
      "text/plain": [
       "0.00270035"
      ]
     },
     "execution_count": 15,
     "metadata": {},
     "output_type": "execute_result"
    }
   ],
   "source": [
    "# ё) не выше 150 см или не ниже 198 см\n",
    "height_l[(height_l <= 150) | (height_l >= 198)].shape[0] / height_l.shape[0]"
   ]
  },
  {
   "cell_type": "code",
   "execution_count": 16,
   "id": "83262eea",
   "metadata": {},
   "outputs": [
    {
     "data": {
      "text/plain": [
       "0.15867702"
      ]
     },
     "execution_count": 16,
     "metadata": {},
     "output_type": "execute_result"
    }
   ],
   "source": [
    "# ж) ниже 166 см\n",
    "height_l[height_l<166].shape[0] / height_l.shape[0]"
   ]
  },
  {
   "cell_type": "markdown",
   "id": "bfd0ad40",
   "metadata": {},
   "source": [
    "#### 5. На сколько сигм (средних квадратичных отклонений) отклоняется рост человека, равный 190 см, от математического ожидания роста в популяции, в которой M(X) = 178 см и D(X) = 25 кв.см?"
   ]
  },
  {
   "cell_type": "markdown",
   "id": "7862c7a2",
   "metadata": {},
   "source": [
    "$\\sigma=\\sqrt{25}=5$"
   ]
  },
  {
   "cell_type": "code",
   "execution_count": 17,
   "id": "7e99ac85",
   "metadata": {},
   "outputs": [
    {
     "data": {
      "text/plain": [
       "2.4"
      ]
     },
     "execution_count": 17,
     "metadata": {},
     "output_type": "execute_result"
    }
   ],
   "source": [
    "(190 - 178) / 5"
   ]
  }
 ],
 "metadata": {
  "kernelspec": {
   "display_name": "Python 3 (ipykernel)",
   "language": "python",
   "name": "python3"
  },
  "language_info": {
   "codemirror_mode": {
    "name": "ipython",
    "version": 3
   },
   "file_extension": ".py",
   "mimetype": "text/x-python",
   "name": "python",
   "nbconvert_exporter": "python",
   "pygments_lexer": "ipython3",
   "version": "3.9.12"
  }
 },
 "nbformat": 4,
 "nbformat_minor": 5
}
