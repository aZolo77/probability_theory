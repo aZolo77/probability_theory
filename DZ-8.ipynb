{
 "cells": [
  {
   "cell_type": "code",
   "execution_count": 1,
   "id": "1e8177d3",
   "metadata": {},
   "outputs": [],
   "source": [
    "import numpy as np\n",
    "from scipy import stats"
   ]
  },
  {
   "cell_type": "markdown",
   "id": "7625cf76",
   "metadata": {},
   "source": [
    "### Провести дисперсионный анализ для определения того, есть ли различия среднего роста среди взрослых футболистов, хоккеистов и штангистов. \n",
    "\n",
    "> Даны значения роста в трех группах случайно выбранных спортсменов: Футболисты: 173, 175, 180, 178, 177, 185, 183, 182. Хоккеисты: 177, 179, 180, 188, 177, 172, 171, 184, 180. Штангисты: 172, 173, 169, 177, 166, 180, 178, 177, 172, 166, 170. alpha = 0.05."
   ]
  },
  {
   "cell_type": "code",
   "execution_count": 2,
   "id": "cedd84fc",
   "metadata": {},
   "outputs": [],
   "source": [
    "f_l = np.array([173, 175, 180, 178, 177, 185, 183, 182])  # Футболисты\n",
    "h_l = np.array([177, 179, 180, 188, 177, 172, 171, 184])  # Хоккеисты\n",
    "s_l = np.array([172, 173, 169, 177, 166, 180, 178, 177, 172, 166, 170])  # Штангисты\n",
    "\n",
    "alpha = 0.05"
   ]
  },
  {
   "cell_type": "code",
   "execution_count": 3,
   "id": "d41b5493",
   "metadata": {},
   "outputs": [
    {
     "data": {
      "text/plain": [
       "0.014571002760548974"
      ]
     },
     "execution_count": 3,
     "metadata": {},
     "output_type": "execute_result"
    }
   ],
   "source": [
    "pvalue = stats.f_oneway(f_l, h_l, s_l)[1]\n",
    "pvalue"
   ]
  },
  {
   "cell_type": "code",
   "execution_count": 4,
   "id": "c224cccb",
   "metadata": {},
   "outputs": [
    {
     "data": {
      "text/plain": [
       "F_onewayResult(statistic=5.06961762671673, pvalue=0.014571002760548974)"
      ]
     },
     "execution_count": 4,
     "metadata": {},
     "output_type": "execute_result"
    }
   ],
   "source": [
    "stats.f_oneway(f_l, h_l, s_l)"
   ]
  },
  {
   "cell_type": "code",
   "execution_count": 5,
   "id": "44e601f1",
   "metadata": {},
   "outputs": [
    {
     "name": "stdout",
     "output_type": "stream",
     "text": [
      "Средний рост для этих спортсменов действительно отличается\n"
     ]
    }
   ],
   "source": [
    "if pvalue < alpha:\n",
    "    print('Средний рост для этих спортсменов действительно отличается')"
   ]
  },
  {
   "cell_type": "markdown",
   "id": "dc62f530",
   "metadata": {},
   "source": [
    "#### проверка:"
   ]
  },
  {
   "cell_type": "code",
   "execution_count": 6,
   "id": "ae1f458c",
   "metadata": {},
   "outputs": [
    {
     "data": {
      "text/plain": [
       "(179.125, 178.5, 172.72727272727272)"
      ]
     },
     "execution_count": 6,
     "metadata": {},
     "output_type": "execute_result"
    }
   ],
   "source": [
    "# Средний рост по группам\n",
    "fb_mean = f_l.mean()\n",
    "hc_mean = h_l.mean()\n",
    "sht_mean = s_l.mean()\n",
    "fb_mean, hc_mean, sht_mean"
   ]
  },
  {
   "cell_type": "code",
   "execution_count": 7,
   "id": "50875cab",
   "metadata": {},
   "outputs": [
    {
     "data": {
      "text/plain": [
       "array([173, 175, 180, 178, 177, 185, 183, 182, 177, 179, 180, 188, 177,\n",
       "       172, 171, 184, 172, 173, 169, 177, 166, 180, 178, 177, 172, 166,\n",
       "       170])"
      ]
     },
     "execution_count": 7,
     "metadata": {},
     "output_type": "execute_result"
    }
   ],
   "source": [
    "all_hights = np.concatenate([f_l, h_l, s_l], axis=0)\n",
    "all_hights"
   ]
  },
  {
   "cell_type": "code",
   "execution_count": 8,
   "id": "d69caf70",
   "metadata": {},
   "outputs": [
    {
     "data": {
      "text/plain": [
       "176.33333333333334"
      ]
     },
     "execution_count": 8,
     "metadata": {},
     "output_type": "execute_result"
    }
   ],
   "source": [
    "# общее среднее\n",
    "gen_mean = all_hights.mean()\n",
    "gen_mean"
   ]
  },
  {
   "cell_type": "code",
   "execution_count": 9,
   "id": "f7f163b6",
   "metadata": {},
   "outputs": [
    {
     "data": {
      "text/plain": [
       "817.9999999999998"
      ]
     },
     "execution_count": 9,
     "metadata": {},
     "output_type": "execute_result"
    }
   ],
   "source": [
    "# Сумма квадратов отклонений от общего среднего\n",
    "ss_gen = np.sum((all_hights - gen_mean)**2)\n",
    "ss_gen"
   ]
  },
  {
   "cell_type": "code",
   "execution_count": 10,
   "id": "8614d0d8",
   "metadata": {},
   "outputs": [
    {
     "data": {
      "text/plain": [
       "242.94318181818244"
      ]
     },
     "execution_count": 10,
     "metadata": {},
     "output_type": "execute_result"
    }
   ],
   "source": [
    "# Сумма квадратов отклонений средних групповых значений от общего среднего\n",
    "ss_mean = ((fb_mean - gen_mean)**2) * f_l.size + ((hc_mean - gen_mean)**2) * h_l.size + ((sht_mean - gen_mean)**2) * s_l.size\n",
    "ss_mean"
   ]
  },
  {
   "cell_type": "code",
   "execution_count": 11,
   "id": "994c303f",
   "metadata": {},
   "outputs": [
    {
     "data": {
      "text/plain": [
       "575.0568181818182"
      ]
     },
     "execution_count": 11,
     "metadata": {},
     "output_type": "execute_result"
    }
   ],
   "source": [
    "# остаточная сумма квадратов отклонений\n",
    "ss_remainder = np.sum((f_l - fb_mean)**2) + np.sum((h_l - hc_mean)**2) + np.sum((s_l - sht_mean)**2)\n",
    "ss_remainder"
   ]
  },
  {
   "cell_type": "code",
   "execution_count": 12,
   "id": "e2d877f1",
   "metadata": {},
   "outputs": [
    {
     "data": {
      "text/plain": [
       "818.0000000000007"
      ]
     },
     "execution_count": 12,
     "metadata": {},
     "output_type": "execute_result"
    }
   ],
   "source": [
    "ss_mean + ss_remainder"
   ]
  },
  {
   "cell_type": "code",
   "execution_count": 13,
   "id": "2eecd0ce",
   "metadata": {},
   "outputs": [
    {
     "data": {
      "text/plain": [
       "121.47159090909122"
      ]
     },
     "execution_count": 13,
     "metadata": {},
     "output_type": "execute_result"
    }
   ],
   "source": [
    "# Факторная дисперрсия\n",
    "s2_factor = ss_mean / (3 - 1)\n",
    "s2_factor"
   ]
  },
  {
   "cell_type": "code",
   "execution_count": 14,
   "id": "eb40ed32",
   "metadata": {},
   "outputs": [
    {
     "data": {
      "text/plain": [
       "23.96070075757576"
      ]
     },
     "execution_count": 14,
     "metadata": {},
     "output_type": "execute_result"
    }
   ],
   "source": [
    "# Остаточная дисперсия\n",
    "s2_remainder = ss_remainder / (all_hights.size - 3)\n",
    "s2_remainder"
   ]
  },
  {
   "cell_type": "code",
   "execution_count": 15,
   "id": "1fa28e25",
   "metadata": {},
   "outputs": [
    {
     "data": {
      "text/plain": [
       "5.06961762671674"
      ]
     },
     "execution_count": 15,
     "metadata": {},
     "output_type": "execute_result"
    }
   ],
   "source": [
    "# F-расчетное\n",
    "F_w = s2_factor / s2_remainder\n",
    "F_w"
   ]
  },
  {
   "cell_type": "code",
   "execution_count": 16,
   "id": "905e1c13",
   "metadata": {},
   "outputs": [
    {
     "data": {
      "text/plain": [
       "(2, 24)"
      ]
     },
     "execution_count": 16,
     "metadata": {},
     "output_type": "execute_result"
    }
   ],
   "source": [
    "# степени свободы\n",
    "df1 = 3 - 1\n",
    "df2 = all_hights.size - 3\n",
    "(df1, df2)"
   ]
  },
  {
   "cell_type": "code",
   "execution_count": 17,
   "id": "1505fe49",
   "metadata": {},
   "outputs": [],
   "source": [
    "# из таблицы распределения Фишера для alpha = 0.05:\n",
    "F_t = 3.4028"
   ]
  },
  {
   "cell_type": "code",
   "execution_count": 18,
   "id": "6dcc7782",
   "metadata": {},
   "outputs": [
    {
     "name": "stdout",
     "output_type": "stream",
     "text": [
      "Средний рост для этих спортсменов действительно отличается\n"
     ]
    }
   ],
   "source": [
    "if F_w > F_t:\n",
    "    print('Средний рост для этих спортсменов действительно отличается')"
   ]
  }
 ],
 "metadata": {
  "kernelspec": {
   "display_name": "Python 3 (ipykernel)",
   "language": "python",
   "name": "python3"
  },
  "language_info": {
   "codemirror_mode": {
    "name": "ipython",
    "version": 3
   },
   "file_extension": ".py",
   "mimetype": "text/x-python",
   "name": "python",
   "nbconvert_exporter": "python",
   "pygments_lexer": "ipython3",
   "version": "3.9.12"
  }
 },
 "nbformat": 4,
 "nbformat_minor": 5
}
