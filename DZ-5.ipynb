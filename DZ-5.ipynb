{
 "cells": [
  {
   "cell_type": "code",
   "execution_count": 26,
   "id": "36690f42",
   "metadata": {},
   "outputs": [],
   "source": [
    "from math import sqrt\n",
    "import numpy as np\n",
    "from scipy import stats"
   ]
  },
  {
   "cell_type": "markdown",
   "id": "ebb343d5",
   "metadata": {},
   "source": [
    "#### 1. Известно, что генеральная совокупность распределена нормально со средним квадратическим отклонением, равным 16. Найти доверительный интервал для оценки математического ожидания a с надежностью 0.95, если выборочная средняя M = 80, а объем выборки n = 256."
   ]
  },
  {
   "cell_type": "markdown",
   "id": "f7f02ab6",
   "metadata": {},
   "source": [
    "${\\sigma}=16$<br>\n",
    "$P=0.95$<br>\n",
    "${X}=80$<br>\n",
    "$n=256$<br>\n",
    "\n",
    "> Так как известно среднее квадратическое отклонение, использую Z-критерий из таблицы накопленного нормального распределения"
   ]
  },
  {
   "cell_type": "code",
   "execution_count": 2,
   "id": "534fc04d",
   "metadata": {},
   "outputs": [
    {
     "data": {
      "text/plain": [
       "81.96"
      ]
     },
     "execution_count": 2,
     "metadata": {},
     "output_type": "execute_result"
    }
   ],
   "source": [
    "# Верхняя граница интервала:\n",
    "top_border = 80 + (1.96 * (16 / sqrt(256)))\n",
    "top_border"
   ]
  },
  {
   "cell_type": "code",
   "execution_count": 3,
   "id": "87cab0ae",
   "metadata": {},
   "outputs": [
    {
     "data": {
      "text/plain": [
       "78.04"
      ]
     },
     "execution_count": 3,
     "metadata": {},
     "output_type": "execute_result"
    }
   ],
   "source": [
    "# Нижняя граница интервала:\n",
    "low_border = 80 - (1.96 * (16 / sqrt(256)))\n",
    "low_border"
   ]
  },
  {
   "cell_type": "markdown",
   "id": "4fe4d2b4",
   "metadata": {},
   "source": [
    "#### 2. В результате 10 независимых измерений некоторой величины X, выполненных с одинаковой точностью, получены опытные данные: 6.9, 6.1, 6.2, 6.8, 7.5, 6.3, 6.4, 6.9, 6.7, 6.1 Предполагая, что результаты измерений подчинены нормальному закону распределения вероятностей, оценить истинное значение величины X при помощи доверительного интервала, покрывающего это значение с доверительной вероятностью 0,95."
   ]
  },
  {
   "cell_type": "code",
   "execution_count": 4,
   "id": "72b98d93",
   "metadata": {},
   "outputs": [
    {
     "data": {
      "text/plain": [
       "array([6.9, 6.1, 6.2, 6.8, 7.5, 6.3, 6.4, 6.9, 6.7, 6.1])"
      ]
     },
     "execution_count": 4,
     "metadata": {},
     "output_type": "execute_result"
    }
   ],
   "source": [
    "x = np.array([6.9, 6.1, 6.2, 6.8, 7.5, 6.3, 6.4, 6.9, 6.7, 6.1])\n",
    "x"
   ]
  },
  {
   "cell_type": "code",
   "execution_count": 5,
   "id": "45ae9c87",
   "metadata": {},
   "outputs": [
    {
     "data": {
      "text/plain": [
       "6.590000000000001"
      ]
     },
     "execution_count": 5,
     "metadata": {},
     "output_type": "execute_result"
    }
   ],
   "source": [
    "mu = x.mean()\n",
    "mu"
   ]
  },
  {
   "cell_type": "code",
   "execution_count": 6,
   "id": "8554b238",
   "metadata": {},
   "outputs": [
    {
     "data": {
      "text/plain": [
       "0.2032222222222223"
      ]
     },
     "execution_count": 6,
     "metadata": {},
     "output_type": "execute_result"
    }
   ],
   "source": [
    "variance = x.var(ddof=1)  # несмещённая дисперсия\n",
    "variance"
   ]
  },
  {
   "cell_type": "code",
   "execution_count": 7,
   "id": "46431ab6",
   "metadata": {},
   "outputs": [
    {
     "data": {
      "text/plain": [
       "0.4508017549014448"
      ]
     },
     "execution_count": 7,
     "metadata": {},
     "output_type": "execute_result"
    }
   ],
   "source": [
    "sig = x.std(ddof=1) # средне-квабдратичное отклонение\n",
    "sig"
   ]
  },
  {
   "cell_type": "code",
   "execution_count": 8,
   "id": "6def340d",
   "metadata": {},
   "outputs": [],
   "source": [
    "t = 2.262"
   ]
  },
  {
   "cell_type": "code",
   "execution_count": 9,
   "id": "3774e93a",
   "metadata": {},
   "outputs": [
    {
     "data": {
      "text/plain": [
       "0.32246174408757394"
      ]
     },
     "execution_count": 9,
     "metadata": {},
     "output_type": "execute_result"
    }
   ],
   "source": [
    "delta = t * sig / sqrt(x.size)\n",
    "delta"
   ]
  },
  {
   "cell_type": "code",
   "execution_count": 10,
   "id": "ad138c3d",
   "metadata": {},
   "outputs": [
    {
     "name": "stdout",
     "output_type": "stream",
     "text": [
      "Доверительный интервал: (6.27; 6.91)\n"
     ]
    }
   ],
   "source": [
    "print(f'Доверительный интервал: ({x.mean() - delta:.2f}; {x.mean() + delta:.2f})')"
   ]
  },
  {
   "cell_type": "markdown",
   "id": "b6cbdda0",
   "metadata": {},
   "source": [
    "#### 3.Утверждается, что шарики для подшипников, изготовленные автоматическим станком, имеют средний диаметр 17 мм. Используя односторонний критерий с α=0,05, проверить эту гипотезу, если в выборке из n=100 шариков средний диаметр оказался равным 17.5 мм, а дисперсия известна и равна 4 мм."
   ]
  },
  {
   "cell_type": "markdown",
   "id": "47979cc9",
   "metadata": {},
   "source": [
    "$H_0: M=17$<br>\n",
    "$H_1: M>17$"
   ]
  },
  {
   "cell_type": "code",
   "execution_count": 11,
   "id": "ae3b5d8c",
   "metadata": {},
   "outputs": [
    {
     "data": {
      "text/plain": [
       "2.5"
      ]
     },
     "execution_count": 11,
     "metadata": {},
     "output_type": "execute_result"
    }
   ],
   "source": [
    "Z_nab = ((17.5 - 17) / sqrt(4)) * (sqrt(100))\n",
    "Z_nab"
   ]
  },
  {
   "cell_type": "code",
   "execution_count": 12,
   "id": "75c23581",
   "metadata": {},
   "outputs": [
    {
     "data": {
      "text/plain": [
       "True"
      ]
     },
     "execution_count": 12,
     "metadata": {},
     "output_type": "execute_result"
    }
   ],
   "source": [
    "Z_tab = 1.645\n",
    "Z_nab > Z_tab"
   ]
  },
  {
   "cell_type": "markdown",
   "id": "23666159",
   "metadata": {},
   "source": [
    "> Принимаем альтернативную гипотезу"
   ]
  },
  {
   "cell_type": "markdown",
   "id": "f4ffd0a0",
   "metadata": {},
   "source": [
    "#### 4. Продавец утверждает, что средний вес пачки печенья составляет 200 г. Из партии извлечена выборка из 10 пачек. Вес каждой пачки составляет: 202, 203, 199, 197, 195, 201, 200, 204, 194, 190. Известно, что их веса распределены нормально. Верно ли утверждение продавца, если учитывать, что доверительная вероятность равна 99%?"
   ]
  },
  {
   "cell_type": "markdown",
   "id": "1a0e9bf0",
   "metadata": {},
   "source": [
    "$H_0: M=200$"
   ]
  },
  {
   "cell_type": "code",
   "execution_count": 30,
   "id": "ce959a77",
   "metadata": {},
   "outputs": [
    {
     "data": {
      "text/plain": [
       "array([202, 203, 199, 197, 195, 201, 200, 204, 194, 190])"
      ]
     },
     "execution_count": 30,
     "metadata": {},
     "output_type": "execute_result"
    }
   ],
   "source": [
    "a = np.array([202, 203, 199, 197, 195, 201, 200, 204, 194, 190])\n",
    "a"
   ]
  },
  {
   "cell_type": "code",
   "execution_count": 14,
   "id": "ffbfe15a",
   "metadata": {},
   "outputs": [
    {
     "data": {
      "text/plain": [
       "10"
      ]
     },
     "execution_count": 14,
     "metadata": {},
     "output_type": "execute_result"
    }
   ],
   "source": [
    "n = a.size\n",
    "n"
   ]
  },
  {
   "cell_type": "code",
   "execution_count": 20,
   "id": "99752571",
   "metadata": {},
   "outputs": [
    {
     "data": {
      "text/plain": [
       "4.453463071962462"
      ]
     },
     "execution_count": 20,
     "metadata": {},
     "output_type": "execute_result"
    }
   ],
   "source": [
    "a.std(ddof=1)"
   ]
  },
  {
   "cell_type": "code",
   "execution_count": 22,
   "id": "6d489edc",
   "metadata": {},
   "outputs": [
    {
     "data": {
      "text/plain": [
       "-1.0651074037450896"
      ]
     },
     "execution_count": 22,
     "metadata": {},
     "output_type": "execute_result"
    }
   ],
   "source": [
    "T_nab = (a.mean() - 200) * sqrt(n) / a.std(ddof=1)\n",
    "T_nab"
   ]
  },
  {
   "cell_type": "code",
   "execution_count": 24,
   "id": "43d01837",
   "metadata": {},
   "outputs": [
    {
     "data": {
      "text/plain": [
       "True"
      ]
     },
     "execution_count": 24,
     "metadata": {},
     "output_type": "execute_result"
    }
   ],
   "source": [
    "# Таблица распределения Стьюдента (t - распределения) 99% cо степенью свободы 9 (n - 1):\n",
    "T_tab = -3.25\n",
    "T_tab < T_nab"
   ]
  },
  {
   "cell_type": "code",
   "execution_count": 28,
   "id": "4dec8251",
   "metadata": {},
   "outputs": [
    {
     "data": {
      "text/plain": [
       "Ttest_1sampResult(statistic=-1.0651074037450896, pvalue=0.31456660352472854)"
      ]
     },
     "execution_count": 28,
     "metadata": {},
     "output_type": "execute_result"
    }
   ],
   "source": [
    "# проверка\n",
    "stats.ttest_1samp(a, 200)"
   ]
  },
  {
   "cell_type": "markdown",
   "id": "d9199da6",
   "metadata": {},
   "source": [
    "Ответ: утверждение продавца верно"
   ]
  }
 ],
 "metadata": {
  "kernelspec": {
   "display_name": "Python 3 (ipykernel)",
   "language": "python",
   "name": "python3"
  },
  "language_info": {
   "codemirror_mode": {
    "name": "ipython",
    "version": 3
   },
   "file_extension": ".py",
   "mimetype": "text/x-python",
   "name": "python",
   "nbconvert_exporter": "python",
   "pygments_lexer": "ipython3",
   "version": "3.9.12"
  }
 },
 "nbformat": 4,
 "nbformat_minor": 5
}
