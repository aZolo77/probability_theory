{
 "cells": [
  {
   "cell_type": "code",
   "execution_count": 1,
   "id": "19f17c70",
   "metadata": {},
   "outputs": [],
   "source": [
    "from math import factorial"
   ]
  },
  {
   "cell_type": "code",
   "execution_count": 2,
   "id": "81b29481",
   "metadata": {},
   "outputs": [],
   "source": [
    "# Сочетания\n",
    "def combinations(n, k):\n",
    "    return int(factorial(n) / (factorial(k) * factorial(n - k)))\n",
    "\n",
    "# Размнещения\n",
    "def arrangements(n, k):\n",
    "    return int(factorial(n) / factorial(n - k))\n",
    "\n",
    "# Перестановки\n",
    "def permutations(n):\n",
    "    return int(factorial(n))"
   ]
  },
  {
   "cell_type": "markdown",
   "id": "a11e75ee",
   "metadata": {},
   "source": [
    "### Из колоды в 52 карты извлекаются случайным образом 4 карты"
   ]
  },
  {
   "cell_type": "markdown",
   "id": "b9b3944d",
   "metadata": {},
   "source": [
    "#### a) Найти вероятность того, что все карты – крести"
   ]
  },
  {
   "cell_type": "code",
   "execution_count": 3,
   "id": "47284371",
   "metadata": {},
   "outputs": [
    {
     "name": "stdout",
     "output_type": "stream",
     "text": [
      "0.0026410564225690276\n"
     ]
    }
   ],
   "source": [
    "res = combinations(13, 4) / combinations(52, 4)\n",
    "print(res)"
   ]
  },
  {
   "cell_type": "markdown",
   "id": "ff58dd97",
   "metadata": {},
   "source": [
    "#### б) Найти вероятность, что среди 4-х карт окажется хотя бы один туз"
   ]
  },
  {
   "cell_type": "code",
   "execution_count": 4,
   "id": "67a9bd42",
   "metadata": {},
   "outputs": [
    {
     "name": "stdout",
     "output_type": "stream",
     "text": [
      "28.13%\n"
     ]
    }
   ],
   "source": [
    "res = round(100 * (1 - 48/52 * 47/51 * 46/50 * 45/49), 2)\n",
    "print(f'{res}%')"
   ]
  },
  {
   "cell_type": "markdown",
   "id": "d783c32a",
   "metadata": {},
   "source": [
    "### На входной двери подъезда установлен кодовый замок, содержащий десять кнопок с цифрами от 0 до 9. Код содержит три цифры, которые нужно нажать одновременно. Какова вероятность того, что человек, не знающий код, откроет дверь с первой попытки?"
   ]
  },
  {
   "cell_type": "code",
   "execution_count": 5,
   "id": "41007f17",
   "metadata": {},
   "outputs": [
    {
     "name": "stdout",
     "output_type": "stream",
     "text": [
      "0.008333333333333333\n"
     ]
    }
   ],
   "source": [
    "all_comb = combinations(10, 3)\n",
    "res = 1 / all_comb\n",
    "print(res)"
   ]
  },
  {
   "cell_type": "markdown",
   "id": "66520e36",
   "metadata": {},
   "source": [
    "### В ящике имеется 15 деталей, из которых 9 окрашены. Рабочий случайным образом извлекает 3 детали. Какова вероятность того, что все извлеченные детали окрашены?"
   ]
  },
  {
   "cell_type": "code",
   "execution_count": 6,
   "id": "21adb1d0",
   "metadata": {},
   "outputs": [
    {
     "data": {
      "text/plain": [
       "0.18461538461538457"
      ]
     },
     "execution_count": 6,
     "metadata": {},
     "output_type": "execute_result"
    }
   ],
   "source": [
    "# 1\n",
    "res = (9/15) * (8/14) * (7/13)\n",
    "res"
   ]
  },
  {
   "cell_type": "code",
   "execution_count": 7,
   "id": "481cd445",
   "metadata": {},
   "outputs": [
    {
     "data": {
      "text/plain": [
       "455"
      ]
     },
     "execution_count": 7,
     "metadata": {},
     "output_type": "execute_result"
    }
   ],
   "source": [
    "# 2\n",
    "all_comb = combinations(15, 3)\n",
    "all_comb"
   ]
  },
  {
   "cell_type": "code",
   "execution_count": 8,
   "id": "f05f0249",
   "metadata": {},
   "outputs": [
    {
     "data": {
      "text/plain": [
       "84"
      ]
     },
     "execution_count": 8,
     "metadata": {},
     "output_type": "execute_result"
    }
   ],
   "source": [
    "only_painted = combinations(9, 3)\n",
    "only_painted"
   ]
  },
  {
   "cell_type": "code",
   "execution_count": 9,
   "id": "82109e68",
   "metadata": {},
   "outputs": [
    {
     "data": {
      "text/plain": [
       "0.18461538461538463"
      ]
     },
     "execution_count": 9,
     "metadata": {},
     "output_type": "execute_result"
    }
   ],
   "source": [
    "res = only_painted / all_comb\n",
    "res"
   ]
  },
  {
   "cell_type": "markdown",
   "id": "1d48fee3",
   "metadata": {},
   "source": [
    "### В лотерее 100 билетов. Из них 2 выигрышных. Какова вероятность того, что 2 приобретенных билета окажутся выигрышными?"
   ]
  },
  {
   "cell_type": "code",
   "execution_count": 10,
   "id": "05441fec",
   "metadata": {},
   "outputs": [
    {
     "data": {
      "text/plain": [
       "4950"
      ]
     },
     "execution_count": 10,
     "metadata": {},
     "output_type": "execute_result"
    }
   ],
   "source": [
    "all_ticket_comb = combinations(100, 2)\n",
    "all_ticket_comb"
   ]
  },
  {
   "cell_type": "code",
   "execution_count": 11,
   "id": "46323d40",
   "metadata": {},
   "outputs": [
    {
     "data": {
      "text/plain": [
       "0.00020202020202020202"
      ]
     },
     "execution_count": 11,
     "metadata": {},
     "output_type": "execute_result"
    }
   ],
   "source": [
    "res = 1 / all_ticket_comb\n",
    "res"
   ]
  }
 ],
 "metadata": {
  "kernelspec": {
   "display_name": "Python 3 (ipykernel)",
   "language": "python",
   "name": "python3"
  },
  "language_info": {
   "codemirror_mode": {
    "name": "ipython",
    "version": 3
   },
   "file_extension": ".py",
   "mimetype": "text/x-python",
   "name": "python",
   "nbconvert_exporter": "python",
   "pygments_lexer": "ipython3",
   "version": "3.9.12"
  }
 },
 "nbformat": 4,
 "nbformat_minor": 5
}
